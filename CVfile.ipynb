{
 "cells": [
  {
   "cell_type": "markdown",
   "id": "general-robinson",
   "metadata": {},
   "source": [
    "layout: cv\n",
    "title: Danielle Rucker's CV\n",
    "---\n",
    "# Danielle Rucker \n",
    "Student, Teaching Assistant\n",
    "\n",
    "## Currently\n",
    "Seeking full-time employment as a Project Manager or Research/Administrative Analyst \n",
    "\n",
    "### Specialized in \n",
    "Customer service, written and verbal skills, Spatial Analysis, and Data Analysis\n",
    "\n",
    "## Education \n",
    "'2019-2021' \n",
    "__UC Riverside, Master of Public Policy__ \n",
    "\n",
    "'2015-2019'\n",
    "__UC Irvine, Bachelor of Public Health Policy__"
   ]
  },
  {
   "cell_type": "code",
   "execution_count": null,
   "id": "clinical-roads",
   "metadata": {},
   "outputs": [],
   "source": []
  }
 ],
 "metadata": {
  "kernelspec": {
   "display_name": "Python 3",
   "language": "python",
   "name": "python3"
  },
  "language_info": {
   "codemirror_mode": {
    "name": "ipython",
    "version": 3
   },
   "file_extension": ".py",
   "mimetype": "text/x-python",
   "name": "python",
   "nbconvert_exporter": "python",
   "pygments_lexer": "ipython3",
   "version": "3.7.3"
  }
 },
 "nbformat": 4,
 "nbformat_minor": 5
}
